{
 "cells": [
  {
   "cell_type": "code",
   "execution_count": null,
   "id": "897cb358",
   "metadata": {},
   "outputs": [],
   "source": [
    "!pip install yfinance\n",
    "!pip install pytz\n",
    "\n",
    "import yfinance as yf\n",
    "import pandas as pd\n",
    "from sklearn.linear_model import LinearRegression\n",
    "from sklearn.model_selection import train_test_split\n",
    "from datetime import datetime, timedelta\n",
    "import pytz\n"
   ]
  },
  {
   "cell_type": "code",
   "execution_count": null,
   "id": "35dffe22",
   "metadata": {},
   "outputs": [],
   "source": [
    "# Download MSFT stock data\n",
    "msft = yf.Ticker(\"MSFT\")\n",
    "data = msft.history(period=\"max\")\n",
    "\n",
    "# Convert the datetime index to tz-naive\n",
    "data.index = data.index.tz_localize(None)\n"
   ]
  },
  {
   "cell_type": "code",
   "execution_count": null,
   "id": "c15b5af7",
   "metadata": {},
   "outputs": [],
   "source": [
    "# Prepare the data\n",
    "data = data[[\"Close\"]]  # Keep only the Close prices\n",
    "data = data.rename(columns={\"Close\": \"Price\"})\n",
    "data[\"Return\"] = data[\"Price\"].pct_change()  # Calculate daily returns\n",
    "data = data.dropna()  # Drop NaN rows\n",
    "\n",
    "# Split the data into training and testing sets\n",
    "X = data[[\"Price\"]].shift(1).dropna()  # Shifted prices as features\n",
    "y = data[\"Return\"].shift(-1).dropna()  # Shifted returns as target\n",
    "\n",
    "X_train, X_test, y_train, y_test = train_test_split(X, y, test_size=0.2, random_state=42)\n",
    "\n"
   ]
  },
  {
   "cell_type": "code",
   "execution_count": null,
   "id": "ca5b23b6",
   "metadata": {},
   "outputs": [],
   "source": [
    "# Create and train the linear regression model\n",
    "model = LinearRegression()\n",
    "model.fit(X_train, y_train)\n",
    "\n",
    "# Evaluate the model on the test set\n",
    "score = model.score(X_test, y_test)\n",
    "print(f\"Model Score: {score:.2f}\")\n",
    "\n"
   ]
  },
  {
   "cell_type": "code",
   "execution_count": null,
   "id": "69a05313",
   "metadata": {},
   "outputs": [],
   "source": [
    "# Get the prediction date from the user\n",
    "prediction_date_str = input(\"Enter the prediction date (YYYY-MM-DD): \")\n",
    "prediction_date = datetime.strptime(prediction_date_str, \"%Y-%m-%d\")\n",
    "\n",
    "# Find the last known price before the prediction date\n",
    "last_known_date = max(filter(lambda x: x <= prediction_date, data.index))\n",
    "last_known_price = data.loc[last_known_date, \"Price\"]\n",
    "\n",
    "# Make a prediction for the next day\n",
    "next_day = last_known_date + timedelta(days=1)\n",
    "next_day_price = last_known_price * (1 + model.predict([[last_known_price]]))\n",
    "\n",
    "print(f\"\\nPredicted price for {next_day.date()}: ${next_day_price[0]:.2f}\")"
   ]
  },
  {
   "cell_type": "code",
   "execution_count": null,
   "id": "09777df9",
   "metadata": {},
   "outputs": [],
   "source": []
  }
 ],
 "metadata": {
  "kernelspec": {
   "display_name": "Python 3 (ipykernel)",
   "language": "python",
   "name": "python3"
  },
  "language_info": {
   "codemirror_mode": {
    "name": "ipython",
    "version": 3
   },
   "file_extension": ".py",
   "mimetype": "text/x-python",
   "name": "python",
   "nbconvert_exporter": "python",
   "pygments_lexer": "ipython3",
   "version": "3.11.5"
  }
 },
 "nbformat": 4,
 "nbformat_minor": 5
}
